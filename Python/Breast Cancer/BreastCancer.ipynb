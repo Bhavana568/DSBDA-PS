{
 "cells": [
  {
   "cell_type": "code",
   "execution_count": 451,
   "id": "f047516f",
   "metadata": {},
   "outputs": [],
   "source": [
    "import pandas as pd\n",
    "import numpy as np \n",
    "import seaborn as sns\n",
    "import matplotlib.pyplot as plt"
   ]
  },
  {
   "cell_type": "code",
   "execution_count": 452,
   "id": "f4cb40c7",
   "metadata": {},
   "outputs": [],
   "source": [
    "df = pd.read_csv('BreastCancerWc.csv',na_values='?')"
   ]
  },
  {
   "cell_type": "code",
   "execution_count": 453,
   "id": "943fc490",
   "metadata": {},
   "outputs": [
    {
     "data": {
      "text/html": [
       "<div>\n",
       "<style scoped>\n",
       "    .dataframe tbody tr th:only-of-type {\n",
       "        vertical-align: middle;\n",
       "    }\n",
       "\n",
       "    .dataframe tbody tr th {\n",
       "        vertical-align: top;\n",
       "    }\n",
       "\n",
       "    .dataframe thead th {\n",
       "        text-align: right;\n",
       "    }\n",
       "</style>\n",
       "<table border=\"1\" class=\"dataframe\">\n",
       "  <thead>\n",
       "    <tr style=\"text-align: right;\">\n",
       "      <th></th>\n",
       "      <th>Sample code number</th>\n",
       "      <th>Clump Thickness</th>\n",
       "      <th>Uniformity of Cell Size</th>\n",
       "      <th>Uniformity of Cell Shape</th>\n",
       "      <th>Marginal Adhesion</th>\n",
       "      <th>Single Epithelial Cell Size</th>\n",
       "      <th>Bare Nuclei</th>\n",
       "      <th>Bland Chromatin</th>\n",
       "      <th>Normal Nucleoli</th>\n",
       "      <th>Mitoses</th>\n",
       "      <th>Class</th>\n",
       "    </tr>\n",
       "  </thead>\n",
       "  <tbody>\n",
       "    <tr>\n",
       "      <th>0</th>\n",
       "      <td>1002945</td>\n",
       "      <td>5</td>\n",
       "      <td>4</td>\n",
       "      <td>4</td>\n",
       "      <td>5</td>\n",
       "      <td>7</td>\n",
       "      <td>10.0</td>\n",
       "      <td>3</td>\n",
       "      <td>2</td>\n",
       "      <td>1</td>\n",
       "      <td>2</td>\n",
       "    </tr>\n",
       "    <tr>\n",
       "      <th>1</th>\n",
       "      <td>1015425</td>\n",
       "      <td>3</td>\n",
       "      <td>1</td>\n",
       "      <td>1</td>\n",
       "      <td>1</td>\n",
       "      <td>2</td>\n",
       "      <td>2.0</td>\n",
       "      <td>3</td>\n",
       "      <td>1</td>\n",
       "      <td>1</td>\n",
       "      <td>2</td>\n",
       "    </tr>\n",
       "    <tr>\n",
       "      <th>2</th>\n",
       "      <td>1016277</td>\n",
       "      <td>6</td>\n",
       "      <td>8</td>\n",
       "      <td>8</td>\n",
       "      <td>1</td>\n",
       "      <td>3</td>\n",
       "      <td>4.0</td>\n",
       "      <td>3</td>\n",
       "      <td>7</td>\n",
       "      <td>1</td>\n",
       "      <td>2</td>\n",
       "    </tr>\n",
       "    <tr>\n",
       "      <th>3</th>\n",
       "      <td>1017023</td>\n",
       "      <td>4</td>\n",
       "      <td>1</td>\n",
       "      <td>1</td>\n",
       "      <td>3</td>\n",
       "      <td>2</td>\n",
       "      <td>1.0</td>\n",
       "      <td>3</td>\n",
       "      <td>1</td>\n",
       "      <td>1</td>\n",
       "      <td>2</td>\n",
       "    </tr>\n",
       "    <tr>\n",
       "      <th>4</th>\n",
       "      <td>1017122</td>\n",
       "      <td>8</td>\n",
       "      <td>10</td>\n",
       "      <td>10</td>\n",
       "      <td>8</td>\n",
       "      <td>7</td>\n",
       "      <td>10.0</td>\n",
       "      <td>9</td>\n",
       "      <td>7</td>\n",
       "      <td>1</td>\n",
       "      <td>4</td>\n",
       "    </tr>\n",
       "    <tr>\n",
       "      <th>...</th>\n",
       "      <td>...</td>\n",
       "      <td>...</td>\n",
       "      <td>...</td>\n",
       "      <td>...</td>\n",
       "      <td>...</td>\n",
       "      <td>...</td>\n",
       "      <td>...</td>\n",
       "      <td>...</td>\n",
       "      <td>...</td>\n",
       "      <td>...</td>\n",
       "      <td>...</td>\n",
       "    </tr>\n",
       "    <tr>\n",
       "      <th>693</th>\n",
       "      <td>776715</td>\n",
       "      <td>3</td>\n",
       "      <td>1</td>\n",
       "      <td>1</td>\n",
       "      <td>1</td>\n",
       "      <td>3</td>\n",
       "      <td>2.0</td>\n",
       "      <td>1</td>\n",
       "      <td>1</td>\n",
       "      <td>1</td>\n",
       "      <td>2</td>\n",
       "    </tr>\n",
       "    <tr>\n",
       "      <th>694</th>\n",
       "      <td>841769</td>\n",
       "      <td>2</td>\n",
       "      <td>1</td>\n",
       "      <td>1</td>\n",
       "      <td>1</td>\n",
       "      <td>2</td>\n",
       "      <td>1.0</td>\n",
       "      <td>1</td>\n",
       "      <td>1</td>\n",
       "      <td>1</td>\n",
       "      <td>2</td>\n",
       "    </tr>\n",
       "    <tr>\n",
       "      <th>695</th>\n",
       "      <td>888820</td>\n",
       "      <td>5</td>\n",
       "      <td>10</td>\n",
       "      <td>10</td>\n",
       "      <td>3</td>\n",
       "      <td>7</td>\n",
       "      <td>3.0</td>\n",
       "      <td>8</td>\n",
       "      <td>10</td>\n",
       "      <td>2</td>\n",
       "      <td>4</td>\n",
       "    </tr>\n",
       "    <tr>\n",
       "      <th>696</th>\n",
       "      <td>897471</td>\n",
       "      <td>4</td>\n",
       "      <td>8</td>\n",
       "      <td>6</td>\n",
       "      <td>4</td>\n",
       "      <td>3</td>\n",
       "      <td>4.0</td>\n",
       "      <td>10</td>\n",
       "      <td>6</td>\n",
       "      <td>1</td>\n",
       "      <td>4</td>\n",
       "    </tr>\n",
       "    <tr>\n",
       "      <th>697</th>\n",
       "      <td>897471</td>\n",
       "      <td>4</td>\n",
       "      <td>8</td>\n",
       "      <td>8</td>\n",
       "      <td>5</td>\n",
       "      <td>4</td>\n",
       "      <td>5.0</td>\n",
       "      <td>10</td>\n",
       "      <td>4</td>\n",
       "      <td>1</td>\n",
       "      <td>4</td>\n",
       "    </tr>\n",
       "  </tbody>\n",
       "</table>\n",
       "<p>698 rows × 11 columns</p>\n",
       "</div>"
      ],
      "text/plain": [
       "     Sample code number  Clump Thickness  Uniformity of Cell Size  \\\n",
       "0               1002945                5                        4   \n",
       "1               1015425                3                        1   \n",
       "2               1016277                6                        8   \n",
       "3               1017023                4                        1   \n",
       "4               1017122                8                       10   \n",
       "..                  ...              ...                      ...   \n",
       "693              776715                3                        1   \n",
       "694              841769                2                        1   \n",
       "695              888820                5                       10   \n",
       "696              897471                4                        8   \n",
       "697              897471                4                        8   \n",
       "\n",
       "     Uniformity of Cell Shape  Marginal Adhesion  Single Epithelial Cell Size  \\\n",
       "0                           4                  5                            7   \n",
       "1                           1                  1                            2   \n",
       "2                           8                  1                            3   \n",
       "3                           1                  3                            2   \n",
       "4                          10                  8                            7   \n",
       "..                        ...                ...                          ...   \n",
       "693                         1                  1                            3   \n",
       "694                         1                  1                            2   \n",
       "695                        10                  3                            7   \n",
       "696                         6                  4                            3   \n",
       "697                         8                  5                            4   \n",
       "\n",
       "     Bare Nuclei  Bland Chromatin  Normal Nucleoli  Mitoses  Class  \n",
       "0           10.0                3                2        1      2  \n",
       "1            2.0                3                1        1      2  \n",
       "2            4.0                3                7        1      2  \n",
       "3            1.0                3                1        1      2  \n",
       "4           10.0                9                7        1      4  \n",
       "..           ...              ...              ...      ...    ...  \n",
       "693          2.0                1                1        1      2  \n",
       "694          1.0                1                1        1      2  \n",
       "695          3.0                8               10        2      4  \n",
       "696          4.0               10                6        1      4  \n",
       "697          5.0               10                4        1      4  \n",
       "\n",
       "[698 rows x 11 columns]"
      ]
     },
     "execution_count": 453,
     "metadata": {},
     "output_type": "execute_result"
    }
   ],
   "source": [
    "df.columns =['Sample code number', 'Clump Thickness', 'Uniformity of Cell Size', 'Uniformity of Cell Shape','Marginal Adhesion','Single Epithelial Cell Size','Bare Nuclei','Bland Chromatin','Normal Nucleoli','Mitoses','Class']\n",
    "df"
   ]
  },
  {
   "cell_type": "code",
   "execution_count": 454,
   "id": "c0997cbc",
   "metadata": {},
   "outputs": [
    {
     "data": {
      "text/plain": [
       "0"
      ]
     },
     "execution_count": 454,
     "metadata": {},
     "output_type": "execute_result"
    }
   ],
   "source": [
    "(df.astype(str)=='?').values.sum()"
   ]
  },
  {
   "cell_type": "code",
   "execution_count": 455,
   "id": "10e1b0ff",
   "metadata": {},
   "outputs": [
    {
     "data": {
      "text/plain": [
       "Sample code number              0\n",
       "Clump Thickness                 0\n",
       "Uniformity of Cell Size         0\n",
       "Uniformity of Cell Shape        0\n",
       "Marginal Adhesion               0\n",
       "Single Epithelial Cell Size     0\n",
       "Bare Nuclei                    16\n",
       "Bland Chromatin                 0\n",
       "Normal Nucleoli                 0\n",
       "Mitoses                         0\n",
       "Class                           0\n",
       "dtype: int64"
      ]
     },
     "execution_count": 455,
     "metadata": {},
     "output_type": "execute_result"
    }
   ],
   "source": [
    "df.isna().sum()"
   ]
  },
  {
   "cell_type": "code",
   "execution_count": 456,
   "id": "3d866993",
   "metadata": {},
   "outputs": [
    {
     "data": {
      "text/plain": [
       "(698, 11)"
      ]
     },
     "execution_count": 456,
     "metadata": {},
     "output_type": "execute_result"
    }
   ],
   "source": [
    "df.shape"
   ]
  },
  {
   "cell_type": "code",
   "execution_count": 457,
   "id": "faac4739",
   "metadata": {},
   "outputs": [],
   "source": [
    "for i in df.columns:\n",
    "    mean_value=df[i].mean()\n",
    "    df[i]=df[i].fillna(mean_value)"
   ]
  },
  {
   "cell_type": "code",
   "execution_count": 458,
   "id": "25c6600f",
   "metadata": {},
   "outputs": [
    {
     "data": {
      "text/plain": [
       "Sample code number             0\n",
       "Clump Thickness                0\n",
       "Uniformity of Cell Size        0\n",
       "Uniformity of Cell Shape       0\n",
       "Marginal Adhesion              0\n",
       "Single Epithelial Cell Size    0\n",
       "Bare Nuclei                    0\n",
       "Bland Chromatin                0\n",
       "Normal Nucleoli                0\n",
       "Mitoses                        0\n",
       "Class                          0\n",
       "dtype: int64"
      ]
     },
     "execution_count": 458,
     "metadata": {},
     "output_type": "execute_result"
    }
   ],
   "source": [
    "df.isna().sum()"
   ]
  },
  {
   "cell_type": "code",
   "execution_count": 459,
   "id": "d9a357b3",
   "metadata": {},
   "outputs": [
    {
     "name": "stderr",
     "output_type": "stream",
     "text": [
      "c:\\users\\adwait\\appdata\\local\\programs\\python\\python38\\lib\\site-packages\\seaborn\\_decorators.py:36: FutureWarning: Pass the following variable as a keyword arg: x. From version 0.12, the only valid positional argument will be `data`, and passing other arguments without an explicit keyword will result in an error or misinterpretation.\n",
      "  warnings.warn(\n"
     ]
    },
    {
     "data": {
      "image/png": "[encoded data removed]",
      "text/plain": [
       "<Figure size 432x288 with 1 Axes>"
      ]
     },
     "metadata": {
      "needs_background": "light"
     },
     "output_type": "display_data"
    }
   ],
   "source": [
    "x=sns.boxplot(df['Sample code number'])"
   ]
  },
  {
   "cell_type": "code",
   "execution_count": 460,
   "id": "07a0dc82",
   "metadata": {},
   "outputs": [],
   "source": [
    "percentile25=df['Sample code number'].quantile(0.25)\n",
    "percentile75=df['Sample code number'].quantile(0.75)\n"
   ]
  },
  {
   "cell_type": "code",
   "execution_count": 461,
   "id": "28b8c880",
   "metadata": {},
   "outputs": [
    {
     "data": {
      "text/plain": [
       "368095.75"
      ]
     },
     "execution_count": 461,
     "metadata": {},
     "output_type": "execute_result"
    }
   ],
   "source": [
    "iqr = percentile75 - percentile25\n",
    "iqr"
   ]
  },
  {
   "cell_type": "code",
   "execution_count": 462,
   "id": "f73e2f1b",
   "metadata": {},
   "outputs": [],
   "source": [
    "upper_limit = percentile75 + 1.5 * iqr\n",
    "lower_limit = percentile25 - 1.5 * iqr"
   ]
  },
  {
   "cell_type": "code",
   "execution_count": 463,
   "id": "c1980343",
   "metadata": {},
   "outputs": [],
   "source": [
    "new_df=df[(df['Sample code number'] > lower_limit) & (df['Sample code number'] < upper_limit)]"
   ]
  },
  {
   "cell_type": "code",
   "execution_count": 464,
   "id": "8aa63fa9",
   "metadata": {},
   "outputs": [
    {
     "name": "stderr",
     "output_type": "stream",
     "text": [
      "c:\\users\\adwait\\appdata\\local\\programs\\python\\python38\\lib\\site-packages\\seaborn\\_decorators.py:36: FutureWarning: Pass the following variable as a keyword arg: x. From version 0.12, the only valid positional argument will be `data`, and passing other arguments without an explicit keyword will result in an error or misinterpretation.\n",
      "  warnings.warn(\n"
     ]
    },
    {
     "data": {
      "image/png": "[encoded data removed]",
      "text/plain": [
       "<Figure size 432x288 with 1 Axes>"
      ]
     },
     "metadata": {
      "needs_background": "light"
     },
     "output_type": "display_data"
    }
   ],
   "source": [
    "x=sns.boxplot(new_df['Sample code number'])"
   ]
  },
  {
   "cell_type": "code",
   "execution_count": 465,
   "id": "241da0e3",
   "metadata": {},
   "outputs": [
    {
     "data": {
      "text/plain": [
       "(675, 11)"
      ]
     },
     "execution_count": 465,
     "metadata": {},
     "output_type": "execute_result"
    }
   ],
   "source": [
    "new_df.shape"
   ]
  },
  {
   "cell_type": "code",
   "execution_count": 466,
   "id": "ae4d5b05",
   "metadata": {},
   "outputs": [],
   "source": [
    "df_norm = (new_df - new_df.min())/(new_df.max()-new_df.min())"
   ]
  },
  {
   "cell_type": "code",
   "execution_count": 467,
   "id": "c401a855",
   "metadata": {},
   "outputs": [
    {
     "data": {
      "text/plain": [
       "(675, 11)"
      ]
     },
     "execution_count": 467,
     "metadata": {},
     "output_type": "execute_result"
    }
   ],
   "source": [
    "df_norm.shape"
   ]
  },
  {
   "cell_type": "code",
   "execution_count": 468,
   "id": "87bd8e97",
   "metadata": {},
   "outputs": [
    {
     "data": {
      "text/plain": [
       "Index(['Sample code number', 'Clump Thickness', 'Uniformity of Cell Size',\n",
       "       'Uniformity of Cell Shape', 'Marginal Adhesion',\n",
       "       'Single Epithelial Cell Size', 'Bare Nuclei', 'Bland Chromatin',\n",
       "       'Normal Nucleoli', 'Mitoses', 'Class'],\n",
       "      dtype='object')"
      ]
     },
     "execution_count": 468,
     "metadata": {},
     "output_type": "execute_result"
    }
   ],
   "source": [
    "df_norm.columns"
   ]
  },
  {
   "cell_type": "code",
   "execution_count": 469,
   "id": "50b7243a",
   "metadata": {},
   "outputs": [],
   "source": [
    "X = df_norm[['Sample code number', 'Clump Thickness', 'Uniformity of Cell Size',\n",
    "       'Uniformity of Cell Shape', 'Marginal Adhesion',\n",
    "       'Single Epithelial Cell Size', 'Bare Nuclei', 'Bland Chromatin',\n",
    "       'Normal Nucleoli', 'Mitoses']]\n",
    "Y = df_norm['Class']"
   ]
  },
  {
   "cell_type": "code",
   "execution_count": 470,
   "id": "23efe69f",
   "metadata": {},
   "outputs": [],
   "source": [
    "from sklearn.model_selection import train_test_split\n",
    "X_train,X_test,Y_train,Y_test=train_test_split(X,Y,test_size=0.25,random_state=25)"
   ]
  },
  {
   "cell_type": "code",
   "execution_count": 471,
   "id": "1fd2b696",
   "metadata": {},
   "outputs": [],
   "source": [
    "from sklearn.linear_model import LogisticRegression\n",
    "from sklearn.naive_bayes import GaussianNB"
   ]
  },
  {
   "cell_type": "code",
   "execution_count": 472,
   "id": "42317e8e",
   "metadata": {},
   "outputs": [
    {
     "data": {
      "text/plain": [
       "488    1.0\n",
       "308    0.0\n",
       "27     0.0\n",
       "415    1.0\n",
       "388    0.0\n",
       "      ... \n",
       "333    1.0\n",
       "143    0.0\n",
       "492    1.0\n",
       "334    0.0\n",
       "132    0.0\n",
       "Name: Class, Length: 506, dtype: float64"
      ]
     },
     "execution_count": 472,
     "metadata": {},
     "output_type": "execute_result"
    }
   ],
   "source": [
    "model1 = LogisticRegression()\n",
    "Y_train"
   ]
  },
  {
   "cell_type": "code",
   "execution_count": 473,
   "id": "3d76a4f2",
   "metadata": {},
   "outputs": [
    {
     "data": {
      "text/plain": [
       "LogisticRegression()"
      ]
     },
     "execution_count": 473,
     "metadata": {},
     "output_type": "execute_result"
    }
   ],
   "source": [
    "model1.fit(X_train,Y_train)"
   ]
  },
  {
   "cell_type": "code",
   "execution_count": 474,
   "id": "3a684f5f",
   "metadata": {},
   "outputs": [],
   "source": [
    "y_pred = model1.predict(X_test)"
   ]
  },
  {
   "cell_type": "code",
   "execution_count": 475,
   "id": "0e4e4a59",
   "metadata": {},
   "outputs": [
    {
     "data": {
      "text/plain": [
       "array([0., 0., 0., 0., 0., 1., 0., 0., 0., 1., 1., 0., 0., 0., 0., 0., 0.,\n",
       "       0., 0., 0., 0., 1., 0., 0., 0., 0., 0., 0., 0., 0., 0., 0., 0., 1.,\n",
       "       1., 0., 0., 0., 0., 0., 1., 0., 0., 0., 0., 1., 0., 0., 0., 0., 0.,\n",
       "       0., 1., 0., 1., 1., 0., 0., 0., 1., 1., 0., 1., 1., 1., 0., 0., 0.,\n",
       "       0., 0., 1., 0., 0., 0., 1., 0., 0., 0., 0., 0., 0., 0., 0., 0., 0.,\n",
       "       0., 1., 0., 1., 1., 1., 1., 0., 0., 1., 0., 0., 1., 1., 0., 1., 0.,\n",
       "       0., 0., 1., 1., 0., 0., 0., 0., 0., 0., 0., 0., 0., 0., 1., 1., 0.,\n",
       "       1., 1., 0., 1., 0., 0., 0., 1., 1., 1., 0., 0., 0., 1., 0., 0., 0.,\n",
       "       1., 0., 0., 0., 1., 0., 1., 0., 1., 1., 1., 0., 0., 1., 0., 1., 0.,\n",
       "       0., 0., 1., 0., 0., 0., 1., 0., 0., 0., 1., 1., 0., 1., 0., 0.])"
      ]
     },
     "execution_count": 475,
     "metadata": {},
     "output_type": "execute_result"
    }
   ],
   "source": [
    "y_pred"
   ]
  },
  {
   "cell_type": "code",
   "execution_count": 476,
   "id": "49c177c1",
   "metadata": {},
   "outputs": [
    {
     "data": {
      "text/plain": [
       "array([[115,   3],\n",
       "       [  3,  48]], dtype=int64)"
      ]
     },
     "execution_count": 476,
     "metadata": {},
     "output_type": "execute_result"
    }
   ],
   "source": [
    "from sklearn.metrics import confusion_matrix\n",
    "confusion_matrix(Y_test,y_pred)"
   ]
  },
  {
   "cell_type": "code",
   "execution_count": 477,
   "id": "c6639e05",
   "metadata": {},
   "outputs": [
    {
     "data": {
      "text/plain": [
       "0.9644970414201184"
      ]
     },
     "execution_count": 477,
     "metadata": {},
     "output_type": "execute_result"
    }
   ],
   "source": [
    "from sklearn.metrics import accuracy_score\n",
    "accuracy_score(Y_test,y_pred)"
   ]
  },
  {
   "cell_type": "code",
   "execution_count": null,
   "id": "66454e4c",
   "metadata": {},
   "outputs": [],
   "source": []
  }
 ],
 "metadata": {
  "kernelspec": {
   "display_name": "Python 3 (ipykernel)",
   "language": "python",
   "name": "python3"
  },
  "language_info": {
   "codemirror_mode": {
    "name": "ipython",
    "version": 3
   },
   "file_extension": ".py",
   "mimetype": "text/x-python",
   "name": "python",
   "nbconvert_exporter": "python",
   "pygments_lexer": "ipython3",
   "version": "3.8.1"
  }
 },
 "nbformat": 4,
 "nbformat_minor": 5
}
