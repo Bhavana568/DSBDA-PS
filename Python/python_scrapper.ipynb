{
  "nbformat": 4,
  "nbformat_minor": 0,
  "metadata": {
    "colab": {
      "name": "python scrapper.ipynb",
      "provenance": [],
      "toc_visible": true
    },
    "kernelspec": {
      "name": "python3",
      "display_name": "Python 3"
    },
    "language_info": {
      "name": "python"
    }
  },
  "cells": [
    {
      "cell_type": "code",
      "execution_count": null,
      "metadata": {
        "id": "Dq61mDuXTrai"
      },
      "outputs": [],
      "source": [
        "import requests\n",
        "from bs4 import BeautifulSoup\n",
        "import pandas as pd"
      ]
    },
    {
      "cell_type": "code",
      "source": [
        "URL = \"https://www.flipkart.com/boat-airdopes-131-bluetooth-headset/p/itmf76c6f983fbca?pid=ACCFSDGXX3S6DVBG&lid=LSTACCFSDGXX3S6DVBGSRHQQR&marketplace=FLIPKART&store=0pm&srno=b_1_3&otracker=hp_rich_navigation_1_2.navigationCard.RICH_NAVIGATION_Electronics~Audio~All_9JGNW7M0TUHD&otracker1=hp_rich_navigation_PINNED_neo%2Fmerchandising_NA_NAV_EXPANDABLE_navigationCard_cc_1_L2_view-all&fm=organic&iid=a5b2130f-59d6-43cf-bee1-9cf0d1c6b920.ACCFSDGXX3S6DVBG.SEARCH&ppt=browse&ppn=browse&ssid=gin531wi000000001649657951918\""
      ],
      "metadata": {
        "id": "mPpzncLYUDMn"
      },
      "execution_count": null,
      "outputs": []
    },
    {
      "cell_type": "code",
      "source": [
        "page = requests.get(URL)"
      ],
      "metadata": {
        "id": "IuCfPkLiUGlW"
      },
      "execution_count": null,
      "outputs": []
    },
    {
      "cell_type": "code",
      "source": [
        "soup = BeautifulSoup(page.content, \"html.parser\")"
      ],
      "metadata": {
        "id": "aRIr1HnvUJay"
      },
      "execution_count": null,
      "outputs": []
    },
    {
      "cell_type": "code",
      "source": [
        "customer_names= soup.find_all(\"p\", class_=\"_2sc7ZR _2V5EHH\")\n",
        "print(customer_names)"
      ],
      "metadata": {
        "colab": {
          "base_uri": "https://localhost:8080/"
        },
        "id": "YGUz3Hi-ULTl",
        "outputId": "c36381b9-de39-4018-8974-cc206e039b8b"
      },
      "execution_count": null,
      "outputs": [
        {
          "output_type": "stream",
          "name": "stdout",
          "text": [
            "[<p class=\"_2sc7ZR _2V5EHH\">Nitish Raj</p>, <p class=\"_2sc7ZR _2V5EHH\">Azhar Maulavi</p>, <p class=\"_2sc7ZR _2V5EHH\">Emam Hossain</p>, <p class=\"_2sc7ZR _2V5EHH\">dipu soni</p>, <p class=\"_2sc7ZR _2V5EHH\">Flipkart Customer</p>, <p class=\"_2sc7ZR _2V5EHH\">Ankush Nabiyal</p>, <p class=\"_2sc7ZR _2V5EHH\">Garima  Awasthi</p>, <p class=\"_2sc7ZR _2V5EHH\">Hrishi Dukhande</p>, <p class=\"_2sc7ZR _2V5EHH\">Durgesh Awasthi</p>, <p class=\"_2sc7ZR _2V5EHH\">Dishari Sil</p>]\n"
          ]
        }
      ]
    },
    {
      "cell_type": "code",
      "source": [
        "customersName = []\n",
        "for element in customer_names:\n",
        "    customersName.append(element.text)\n",
        "print(customersName)"
      ],
      "metadata": {
        "colab": {
          "base_uri": "https://localhost:8080/"
        },
        "id": "aRkkz07hUNm1",
        "outputId": "35ce6864-0ed0-4463-a9c6-053e1ca58df2"
      },
      "execution_count": null,
      "outputs": [
        {
          "output_type": "stream",
          "name": "stdout",
          "text": [
            "['Nitish Raj', 'Azhar Maulavi', 'Emam Hossain', 'dipu soni', 'Flipkart Customer', 'Ankush Nabiyal', 'Garima  Awasthi', 'Hrishi Dukhande', 'Durgesh Awasthi', 'Dishari Sil']\n"
          ]
        }
      ]
    },
    {
      "cell_type": "code",
      "source": [
        "df = pd.DataFrame()\n"
      ],
      "metadata": {
        "id": "arUP36MZUPTl"
      },
      "execution_count": null,
      "outputs": []
    },
    {
      "cell_type": "code",
      "source": [
        "df['name']=customersName"
      ],
      "metadata": {
        "id": "DM7IvxY_V2YW"
      },
      "execution_count": null,
      "outputs": []
    },
    {
      "cell_type": "code",
      "source": [
        "df"
      ],
      "metadata": {
        "colab": {
          "base_uri": "https://localhost:8080/",
          "height": 363
        },
        "id": "ebWPOdFmW0cy",
        "outputId": "6869b26c-c54a-45b2-f9f7-dc9d36a03ecf"
      },
      "execution_count": null,
      "outputs": [
        {
          "output_type": "execute_result",
          "data": {
            "text/plain": [
              "                name\n",
              "0         Nitish Raj\n",
              "1      Azhar Maulavi\n",
              "2       Emam Hossain\n",
              "3          dipu soni\n",
              "4  Flipkart Customer\n",
              "5     Ankush Nabiyal\n",
              "6    Garima  Awasthi\n",
              "7    Hrishi Dukhande\n",
              "8    Durgesh Awasthi\n",
              "9        Dishari Sil"
            ],
            "text/html": [
              "\n",
              "  <div id=\"df-bb2431e1-89dd-4524-9997-7481c3d31254\">\n",
              "    <div class=\"colab-df-container\">\n",
              "      <div>\n",
              "<style scoped>\n",
              "    .dataframe tbody tr th:only-of-type {\n",
              "        vertical-align: middle;\n",
              "    }\n",
              "\n",
              "    .dataframe tbody tr th {\n",
              "        vertical-align: top;\n",
              "    }\n",
              "\n",
              "    .dataframe thead th {\n",
              "        text-align: right;\n",
              "    }\n",
              "</style>\n",
              "<table border=\"1\" class=\"dataframe\">\n",
              "  <thead>\n",
              "    <tr style=\"text-align: right;\">\n",
              "      <th></th>\n",
              "      <th>name</th>\n",
              "    </tr>\n",
              "  </thead>\n",
              "  <tbody>\n",
              "    <tr>\n",
              "      <th>0</th>\n",
              "      <td>Nitish Raj</td>\n",
              "    </tr>\n",
              "    <tr>\n",
              "      <th>1</th>\n",
              "      <td>Azhar Maulavi</td>\n",
              "    </tr>\n",
              "    <tr>\n",
              "      <th>2</th>\n",
              "      <td>Emam Hossain</td>\n",
              "    </tr>\n",
              "    <tr>\n",
              "      <th>3</th>\n",
              "      <td>dipu soni</td>\n",
              "    </tr>\n",
              "    <tr>\n",
              "      <th>4</th>\n",
              "      <td>Flipkart Customer</td>\n",
              "    </tr>\n",
              "    <tr>\n",
              "      <th>5</th>\n",
              "      <td>Ankush Nabiyal</td>\n",
              "    </tr>\n",
              "    <tr>\n",
              "      <th>6</th>\n",
              "      <td>Garima  Awasthi</td>\n",
              "    </tr>\n",
              "    <tr>\n",
              "      <th>7</th>\n",
              "      <td>Hrishi Dukhande</td>\n",
              "    </tr>\n",
              "    <tr>\n",
              "      <th>8</th>\n",
              "      <td>Durgesh Awasthi</td>\n",
              "    </tr>\n",
              "    <tr>\n",
              "      <th>9</th>\n",
              "      <td>Dishari Sil</td>\n",
              "    </tr>\n",
              "  </tbody>\n",
              "</table>\n",
              "</div>\n",
              "      <button class=\"colab-df-convert\" onclick=\"convertToInteractive('df-bb2431e1-89dd-4524-9997-7481c3d31254')\"\n",
              "              title=\"Convert this dataframe to an interactive table.\"\n",
              "              style=\"display:none;\">\n",
              "        \n",
              "  <svg xmlns=\"http://www.w3.org/2000/svg\" height=\"24px\"viewBox=\"0 0 24 24\"\n",
              "       width=\"24px\">\n",
              "    <path d=\"M0 0h24v24H0V0z\" fill=\"none\"/>\n",
              "    <path d=\"M18.56 5.44l.94 2.06.94-2.06 2.06-.94-2.06-.94-.94-2.06-.94 2.06-2.06.94zm-11 1L8.5 8.5l.94-2.06 2.06-.94-2.06-.94L8.5 2.5l-.94 2.06-2.06.94zm10 10l.94 2.06.94-2.06 2.06-.94-2.06-.94-.94-2.06-.94 2.06-2.06.94z\"/><path d=\"M17.41 7.96l-1.37-1.37c-.4-.4-.92-.59-1.43-.59-.52 0-1.04.2-1.43.59L10.3 9.45l-7.72 7.72c-.78.78-.78 2.05 0 2.83L4 21.41c.39.39.9.59 1.41.59.51 0 1.02-.2 1.41-.59l7.78-7.78 2.81-2.81c.8-.78.8-2.07 0-2.86zM5.41 20L4 18.59l7.72-7.72 1.47 1.35L5.41 20z\"/>\n",
              "  </svg>\n",
              "      </button>\n",
              "      \n",
              "  <style>\n",
              "    .colab-df-container {\n",
              "      display:flex;\n",
              "      flex-wrap:wrap;\n",
              "      gap: 12px;\n",
              "    }\n",
              "\n",
              "    .colab-df-convert {\n",
              "      background-color: #E8F0FE;\n",
              "      border: none;\n",
              "      border-radius: 50%;\n",
              "      cursor: pointer;\n",
              "      display: none;\n",
              "      fill: #1967D2;\n",
              "      height: 32px;\n",
              "      padding: 0 0 0 0;\n",
              "      width: 32px;\n",
              "    }\n",
              "\n",
              "    .colab-df-convert:hover {\n",
              "      background-color: #E2EBFA;\n",
              "      box-shadow: 0px 1px 2px rgba(60, 64, 67, 0.3), 0px 1px 3px 1px rgba(60, 64, 67, 0.15);\n",
              "      fill: #174EA6;\n",
              "    }\n",
              "\n",
              "    [theme=dark] .colab-df-convert {\n",
              "      background-color: #3B4455;\n",
              "      fill: #D2E3FC;\n",
              "    }\n",
              "\n",
              "    [theme=dark] .colab-df-convert:hover {\n",
              "      background-color: #434B5C;\n",
              "      box-shadow: 0px 1px 3px 1px rgba(0, 0, 0, 0.15);\n",
              "      filter: drop-shadow(0px 1px 2px rgba(0, 0, 0, 0.3));\n",
              "      fill: #FFFFFF;\n",
              "    }\n",
              "  </style>\n",
              "\n",
              "      <script>\n",
              "        const buttonEl =\n",
              "          document.querySelector('#df-bb2431e1-89dd-4524-9997-7481c3d31254 button.colab-df-convert');\n",
              "        buttonEl.style.display =\n",
              "          google.colab.kernel.accessAllowed ? 'block' : 'none';\n",
              "\n",
              "        async function convertToInteractive(key) {\n",
              "          const element = document.querySelector('#df-bb2431e1-89dd-4524-9997-7481c3d31254');\n",
              "          const dataTable =\n",
              "            await google.colab.kernel.invokeFunction('convertToInteractive',\n",
              "                                                     [key], {});\n",
              "          if (!dataTable) return;\n",
              "\n",
              "          const docLinkHtml = 'Like what you see? Visit the ' +\n",
              "            '<a target=\"_blank\" href=https://colab.research.google.com/notebooks/data_table.ipynb>data table notebook</a>'\n",
              "            + ' to learn more about interactive tables.';\n",
              "          element.innerHTML = '';\n",
              "          dataTable['output_type'] = 'display_data';\n",
              "          await google.colab.output.renderOutput(dataTable, element);\n",
              "          const docLink = document.createElement('div');\n",
              "          docLink.innerHTML = docLinkHtml;\n",
              "          element.appendChild(docLink);\n",
              "        }\n",
              "      </script>\n",
              "    </div>\n",
              "  </div>\n",
              "  "
            ]
          },
          "metadata": {},
          "execution_count": 10
        }
      ]
    },
    {
      "cell_type": "code",
      "source": [
        "df.loc[0]"
      ],
      "metadata": {
        "colab": {
          "base_uri": "https://localhost:8080/"
        },
        "id": "rsafyE1cW7ZS",
        "outputId": "2f695ea0-d954-4838-ca0e-27b5c09daf3d"
      },
      "execution_count": null,
      "outputs": [
        {
          "output_type": "execute_result",
          "data": {
            "text/plain": [
              "name    Nitish Raj\n",
              "Name: 0, dtype: object"
            ]
          },
          "metadata": {},
          "execution_count": 13
        }
      ]
    },
    {
      "cell_type": "code",
      "source": [
        "review = soup.find_all(\"div\", class_=\"t-ZTKy\")\n",
        "print(review)"
      ],
      "metadata": {
        "colab": {
          "base_uri": "https://localhost:8080/"
        },
        "id": "TCG39rd0Xv5C",
        "outputId": "04867a9a-e958-4dd5-afb6-d105e83e6f64"
      },
      "execution_count": null,
      "outputs": [
        {
          "output_type": "stream",
          "name": "stdout",
          "text": [
            "[<div class=\"t-ZTKy\"><div><div class=\"\">Fabulous in this range.. <br/><br/>1. Sound quality is very good<br/>2. Premium built quality and look.. from inside it may feel like plastic<br/>3. Battery backup is good..<br/>4. If you love bass the don't go for it..<br/>5. It doesn't block your ear.. you can hear surrounding voice while using it</div><span class=\"_1H-bmy\"><span>READ MORE</span></span></div></div>, <div class=\"t-ZTKy\"><div><div class=\"\">I hope you guys find this review helpful, well it's too soon for a review but I think it's worth every penny, <br/><br/>Sound - Do not have high expectations for bass atleast, rest of the sound is amazing, you get a clear voice even if it turns a bit windy on roads, songs when played have a clear voice, good for casual song listening, you can watch movies and browse, sound is good even when you play games on phone.<br/><br/>Battery backup - is amazing, I've been using it the whole day, as soon as you put the...</div><span class=\"_1BWGvX\"><span>READ MORE</span></span></div></div>, <div class=\"t-ZTKy\"><div><div class=\"\">Nice and smooth quality earbuds of boats. I am like this products sound quality good</div><span class=\"_1H-bmy\"><span>READ MORE</span></span></div></div>, <div class=\"t-ZTKy\"><div><div class=\"\">(1) Worth of the money 💰<br/>(2) Nice design &amp; comfort 👂<br/>(3) Good battery backup🔋<br/>(4) Nice sound quality and Bass also 🎶</div><span class=\"_1H-bmy\"><span>READ MORE</span></span></div></div>, <div class=\"t-ZTKy\"><div><div class=\"\">Worth of money. Not bad. Sound quality is good 👍, design is ossum . Totally the product is nice and you can buy this product.</div><span class=\"_1H-bmy\"><span>READ MORE</span></span></div></div>, <div class=\"t-ZTKy\"><div><div class=\"\">Best product you can buy in this price range. Sound quality is good and connecting speed is really fast and battery backup is also good.</div><span class=\"_1H-bmy\"><span>READ MORE</span></span></div></div>, <div class=\"t-ZTKy\"><div><div class=\"\">And yes there you go...You have the best in-budget tws....<br/>First of all, let me get something straight- It has amazing sound quality <br/>A decent bass <br/>A nice battery backup <br/>But it lacks only in built design. Yes these are not much comfortable for long durations.<br/>My verdict:- If you are a comfort lover then these are not meant for you.<br/>You should then go for some tws with vacuum grip.<br/>Edit:- Since I'm now used to it, it seems very comfortable to me...<br/>Just go for it</div><span class=\"_1H-bmy\"><span>READ MORE</span></span></div></div>, <div class=\"t-ZTKy\"><div><div class=\"\">I never bought any kind of Bluetooth pairs, this was my first purchase and I can say this was the best purchase at this segment. The quality of the product and music is outstanding and I never expected that to in this price. Thank you, Flipkart for the express delivery which you offered.</div><span class=\"_1H-bmy\"><span>READ MORE</span></span></div></div>, <div class=\"t-ZTKy\"><div><div class=\"\">Worth a single penny 👍👍, big thumbs up.<br/><br/>I am simply giving 5 star rating, it exceeds my expectations,  those who is thinking to get something in affordable range,this airdopes are made for them only 👍 .I ordered this on first sale , though I wanted to order Black color, but black was out of stock so I have to order this color which looks elegant as well. <br/><br/>After using for a day I am writing this, this is worth to buy , don't think too much just go for it, according to price nothing is com...</div><span class=\"_1BWGvX\"><span>READ MORE</span></span></div></div>, <div class=\"t-ZTKy\"><div><div class=\"\">Nice colour nd too cute sound quality is good hope it works well</div><span class=\"_1H-bmy\"><span>READ MORE</span></span></div></div>]\n"
          ]
        }
      ]
    },
    {
      "cell_type": "code",
      "source": [
        "customer_Review = []\n",
        "for element in review :\n",
        "    div1 = element.find(\"div\")\n",
        "    div2 = element.find(\"div\",class_=\"\")\n",
        "    customer_Review.append(div2.text)\n",
        "print(customer_Review)"
      ],
      "metadata": {
        "colab": {
          "base_uri": "https://localhost:8080/"
        },
        "id": "2WUeP30NYMze",
        "outputId": "fee51ef3-556c-4cd6-8d4a-5a768501438f"
      },
      "execution_count": null,
      "outputs": [
        {
          "output_type": "stream",
          "name": "stdout",
          "text": [
            "[\"Fabulous in this range.. 1. Sound quality is very good2. Premium built quality and look.. from inside it may feel like plastic3. Battery backup is good..4. If you love bass the don't go for it..5. It doesn't block your ear.. you can hear surrounding voice while using itREAD MORE\", \"I hope you guys find this review helpful, well it's too soon for a review but I think it's worth every penny, Sound - Do not have high expectations for bass atleast, rest of the sound is amazing, you get a clear voice even if it turns a bit windy on roads, songs when played have a clear voice, good for casual song listening, you can watch movies and browse, sound is good even when you play games on phone.Battery backup - is amazing, I've been using it the whole day, as soon as you put the...READ MORE\", 'Nice and smooth quality earbuds of boats. I am like this products sound quality goodREAD MORE', '(1) Worth of the money 💰(2) Nice design & comfort 👂(3) Good battery backup🔋(4) Nice sound quality and Bass also 🎶READ MORE', 'Worth of money. Not bad. Sound quality is good 👍, design is ossum . Totally the product is nice and you can buy this product.READ MORE', 'Best product you can buy in this price range. Sound quality is good and connecting speed is really fast and battery backup is also good.READ MORE', \"And yes there you go...You have the best in-budget tws....First of all, let me get something straight- It has amazing sound quality A decent bass A nice battery backup But it lacks only in built design. Yes these are not much comfortable for long durations.My verdict:- If you are a comfort lover then these are not meant for you.You should then go for some tws with vacuum grip.Edit:- Since I'm now used to it, it seems very comfortable to me...Just go for itREAD MORE\", 'I never bought any kind of Bluetooth pairs, this was my first purchase and I can say this was the best purchase at this segment. The quality of the product and music is outstanding and I never expected that to in this price. Thank you, Flipkart for the express delivery which you offered.READ MORE', \"Worth a single penny 👍👍, big thumbs up.I am simply giving 5 star rating, it exceeds my expectations,  those who is thinking to get something in affordable range,this airdopes are made for them only 👍 .I ordered this on first sale , though I wanted to order Black color, but black was out of stock so I have to order this color which looks elegant as well. After using for a day I am writing this, this is worth to buy , don't think too much just go for it, according to price nothing is com...READ MORE\", 'Nice colour nd too cute sound quality is good hope it works wellREAD MORE']\n"
          ]
        }
      ]
    },
    {
      "cell_type": "code",
      "source": [
        "df['Review'] = customer_Review"
      ],
      "metadata": {
        "id": "YUeQl9FXYRIm"
      },
      "execution_count": null,
      "outputs": []
    },
    {
      "cell_type": "code",
      "source": [
        "df"
      ],
      "metadata": {
        "colab": {
          "base_uri": "https://localhost:8080/",
          "height": 363
        },
        "id": "2idxfiiJYvN6",
        "outputId": "665075d8-772a-4e1e-c091-f1736de904a8"
      },
      "execution_count": null,
      "outputs": [
        {
          "output_type": "execute_result",
          "data": {
            "text/plain": [
              "                name                                             Review\n",
              "0         Nitish Raj  Fabulous in this range.. 1. Sound quality is v...\n",
              "1      Azhar Maulavi  I hope you guys find this review helpful, well...\n",
              "2       Emam Hossain  Nice and smooth quality earbuds of boats. I am...\n",
              "3          dipu soni  (1) Worth of the money 💰(2) Nice design & comf...\n",
              "4  Flipkart Customer  Worth of money. Not bad. Sound quality is good...\n",
              "5     Ankush Nabiyal  Best product you can buy in this price range. ...\n",
              "6    Garima  Awasthi  And yes there you go...You have the best in-bu...\n",
              "7    Hrishi Dukhande  I never bought any kind of Bluetooth pairs, th...\n",
              "8    Durgesh Awasthi  Worth a single penny 👍👍, big thumbs up.I am si...\n",
              "9        Dishari Sil  Nice colour nd too cute sound quality is good ..."
            ],
            "text/html": [
              "\n",
              "  <div id=\"df-6874fd7f-00ae-428a-8d4b-c18b1f10fa51\">\n",
              "    <div class=\"colab-df-container\">\n",
              "      <div>\n",
              "<style scoped>\n",
              "    .dataframe tbody tr th:only-of-type {\n",
              "        vertical-align: middle;\n",
              "    }\n",
              "\n",
              "    .dataframe tbody tr th {\n",
              "        vertical-align: top;\n",
              "    }\n",
              "\n",
              "    .dataframe thead th {\n",
              "        text-align: right;\n",
              "    }\n",
              "</style>\n",
              "<table border=\"1\" class=\"dataframe\">\n",
              "  <thead>\n",
              "    <tr style=\"text-align: right;\">\n",
              "      <th></th>\n",
              "      <th>name</th>\n",
              "      <th>Review</th>\n",
              "    </tr>\n",
              "  </thead>\n",
              "  <tbody>\n",
              "    <tr>\n",
              "      <th>0</th>\n",
              "      <td>Nitish Raj</td>\n",
              "      <td>Fabulous in this range.. 1. Sound quality is v...</td>\n",
              "    </tr>\n",
              "    <tr>\n",
              "      <th>1</th>\n",
              "      <td>Azhar Maulavi</td>\n",
              "      <td>I hope you guys find this review helpful, well...</td>\n",
              "    </tr>\n",
              "    <tr>\n",
              "      <th>2</th>\n",
              "      <td>Emam Hossain</td>\n",
              "      <td>Nice and smooth quality earbuds of boats. I am...</td>\n",
              "    </tr>\n",
              "    <tr>\n",
              "      <th>3</th>\n",
              "      <td>dipu soni</td>\n",
              "      <td>(1) Worth of the money 💰(2) Nice design &amp; comf...</td>\n",
              "    </tr>\n",
              "    <tr>\n",
              "      <th>4</th>\n",
              "      <td>Flipkart Customer</td>\n",
              "      <td>Worth of money. Not bad. Sound quality is good...</td>\n",
              "    </tr>\n",
              "    <tr>\n",
              "      <th>5</th>\n",
              "      <td>Ankush Nabiyal</td>\n",
              "      <td>Best product you can buy in this price range. ...</td>\n",
              "    </tr>\n",
              "    <tr>\n",
              "      <th>6</th>\n",
              "      <td>Garima  Awasthi</td>\n",
              "      <td>And yes there you go...You have the best in-bu...</td>\n",
              "    </tr>\n",
              "    <tr>\n",
              "      <th>7</th>\n",
              "      <td>Hrishi Dukhande</td>\n",
              "      <td>I never bought any kind of Bluetooth pairs, th...</td>\n",
              "    </tr>\n",
              "    <tr>\n",
              "      <th>8</th>\n",
              "      <td>Durgesh Awasthi</td>\n",
              "      <td>Worth a single penny 👍👍, big thumbs up.I am si...</td>\n",
              "    </tr>\n",
              "    <tr>\n",
              "      <th>9</th>\n",
              "      <td>Dishari Sil</td>\n",
              "      <td>Nice colour nd too cute sound quality is good ...</td>\n",
              "    </tr>\n",
              "  </tbody>\n",
              "</table>\n",
              "</div>\n",
              "      <button class=\"colab-df-convert\" onclick=\"convertToInteractive('df-6874fd7f-00ae-428a-8d4b-c18b1f10fa51')\"\n",
              "              title=\"Convert this dataframe to an interactive table.\"\n",
              "              style=\"display:none;\">\n",
              "        \n",
              "  <svg xmlns=\"http://www.w3.org/2000/svg\" height=\"24px\"viewBox=\"0 0 24 24\"\n",
              "       width=\"24px\">\n",
              "    <path d=\"M0 0h24v24H0V0z\" fill=\"none\"/>\n",
              "    <path d=\"M18.56 5.44l.94 2.06.94-2.06 2.06-.94-2.06-.94-.94-2.06-.94 2.06-2.06.94zm-11 1L8.5 8.5l.94-2.06 2.06-.94-2.06-.94L8.5 2.5l-.94 2.06-2.06.94zm10 10l.94 2.06.94-2.06 2.06-.94-2.06-.94-.94-2.06-.94 2.06-2.06.94z\"/><path d=\"M17.41 7.96l-1.37-1.37c-.4-.4-.92-.59-1.43-.59-.52 0-1.04.2-1.43.59L10.3 9.45l-7.72 7.72c-.78.78-.78 2.05 0 2.83L4 21.41c.39.39.9.59 1.41.59.51 0 1.02-.2 1.41-.59l7.78-7.78 2.81-2.81c.8-.78.8-2.07 0-2.86zM5.41 20L4 18.59l7.72-7.72 1.47 1.35L5.41 20z\"/>\n",
              "  </svg>\n",
              "      </button>\n",
              "      \n",
              "  <style>\n",
              "    .colab-df-container {\n",
              "      display:flex;\n",
              "      flex-wrap:wrap;\n",
              "      gap: 12px;\n",
              "    }\n",
              "\n",
              "    .colab-df-convert {\n",
              "      background-color: #E8F0FE;\n",
              "      border: none;\n",
              "      border-radius: 50%;\n",
              "      cursor: pointer;\n",
              "      display: none;\n",
              "      fill: #1967D2;\n",
              "      height: 32px;\n",
              "      padding: 0 0 0 0;\n",
              "      width: 32px;\n",
              "    }\n",
              "\n",
              "    .colab-df-convert:hover {\n",
              "      background-color: #E2EBFA;\n",
              "      box-shadow: 0px 1px 2px rgba(60, 64, 67, 0.3), 0px 1px 3px 1px rgba(60, 64, 67, 0.15);\n",
              "      fill: #174EA6;\n",
              "    }\n",
              "\n",
              "    [theme=dark] .colab-df-convert {\n",
              "      background-color: #3B4455;\n",
              "      fill: #D2E3FC;\n",
              "    }\n",
              "\n",
              "    [theme=dark] .colab-df-convert:hover {\n",
              "      background-color: #434B5C;\n",
              "      box-shadow: 0px 1px 3px 1px rgba(0, 0, 0, 0.15);\n",
              "      filter: drop-shadow(0px 1px 2px rgba(0, 0, 0, 0.3));\n",
              "      fill: #FFFFFF;\n",
              "    }\n",
              "  </style>\n",
              "\n",
              "      <script>\n",
              "        const buttonEl =\n",
              "          document.querySelector('#df-6874fd7f-00ae-428a-8d4b-c18b1f10fa51 button.colab-df-convert');\n",
              "        buttonEl.style.display =\n",
              "          google.colab.kernel.accessAllowed ? 'block' : 'none';\n",
              "\n",
              "        async function convertToInteractive(key) {\n",
              "          const element = document.querySelector('#df-6874fd7f-00ae-428a-8d4b-c18b1f10fa51');\n",
              "          const dataTable =\n",
              "            await google.colab.kernel.invokeFunction('convertToInteractive',\n",
              "                                                     [key], {});\n",
              "          if (!dataTable) return;\n",
              "\n",
              "          const docLinkHtml = 'Like what you see? Visit the ' +\n",
              "            '<a target=\"_blank\" href=https://colab.research.google.com/notebooks/data_table.ipynb>data table notebook</a>'\n",
              "            + ' to learn more about interactive tables.';\n",
              "          element.innerHTML = '';\n",
              "          dataTable['output_type'] = 'display_data';\n",
              "          await google.colab.output.renderOutput(dataTable, element);\n",
              "          const docLink = document.createElement('div');\n",
              "          docLink.innerHTML = docLinkHtml;\n",
              "          element.appendChild(docLink);\n",
              "        }\n",
              "      </script>\n",
              "    </div>\n",
              "  </div>\n",
              "  "
            ]
          },
          "metadata": {},
          "execution_count": 17
        }
      ]
    },
    {
      "cell_type": "code",
      "source": [
        "review_Title = soup.find_all(\"p\", class_=\"_2-N8zT\")\n",
        "reviews_Title = []\n",
        "for element in review_Title:\n",
        "    reviews_Title.append(element.text)\n",
        "print(reviews_Title)"
      ],
      "metadata": {
        "colab": {
          "base_uri": "https://localhost:8080/"
        },
        "id": "vEvFmht1Yv0a",
        "outputId": "0b81f206-c44c-4a36-91b3-52693157eb8c"
      },
      "execution_count": null,
      "outputs": [
        {
          "output_type": "stream",
          "name": "stdout",
          "text": [
            "['Pretty good', 'Mind-blowing purchase', 'Good choice', 'Brilliant', 'Awesome', 'Wonderful', 'Worth every penny', 'Excellent', 'Highly recommended', 'Brilliant']\n"
          ]
        }
      ]
    },
    {
      "cell_type": "code",
      "source": [
        "df['Review_title'] = review_Title"
      ],
      "metadata": {
        "id": "dT5Oelncd0SC"
      },
      "execution_count": null,
      "outputs": []
    },
    {
      "cell_type": "code",
      "source": [
        "rating = soup.find_all(\"div\", class_=\"_3LWZlK _1BLPMq\")\n",
        "ratings = []\n",
        "for element in rating:\n",
        "    ratings.append(element.text)\n",
        "print(ratings)"
      ],
      "metadata": {
        "colab": {
          "base_uri": "https://localhost:8080/"
        },
        "id": "iSZggciTdp5G",
        "outputId": "db75e187-e3cc-41cf-92fc-5b2adc36750f"
      },
      "execution_count": null,
      "outputs": [
        {
          "output_type": "stream",
          "name": "stdout",
          "text": [
            "['4', '5', '4', '5', '5', '5', '5', '5', '5', '5']\n"
          ]
        }
      ]
    },
    {
      "cell_type": "code",
      "source": [
        "df['Rating']=ratings\n",
        "df"
      ],
      "metadata": {
        "colab": {
          "base_uri": "https://localhost:8080/",
          "height": 363
        },
        "id": "TuJHuT3PdsJl",
        "outputId": "ebffeea1-2a40-40ff-b3f4-fa308df5bc86"
      },
      "execution_count": null,
      "outputs": [
        {
          "output_type": "execute_result",
          "data": {
            "text/plain": [
              "                name                                             Review  \\\n",
              "0         Nitish Raj  Fabulous in this range.. 1. Sound quality is v...   \n",
              "1      Azhar Maulavi  I hope you guys find this review helpful, well...   \n",
              "2       Emam Hossain  Nice and smooth quality earbuds of boats. I am...   \n",
              "3          dipu soni  (1) Worth of the money 💰(2) Nice design & comf...   \n",
              "4  Flipkart Customer  Worth of money. Not bad. Sound quality is good...   \n",
              "5     Ankush Nabiyal  Best product you can buy in this price range. ...   \n",
              "6    Garima  Awasthi  And yes there you go...You have the best in-bu...   \n",
              "7    Hrishi Dukhande  I never bought any kind of Bluetooth pairs, th...   \n",
              "8    Durgesh Awasthi  Worth a single penny 👍👍, big thumbs up.I am si...   \n",
              "9        Dishari Sil  Nice colour nd too cute sound quality is good ...   \n",
              "\n",
              "  Rating             Review_title  \n",
              "0      4            [Pretty good]  \n",
              "1      5  [Mind-blowing purchase]  \n",
              "2      4            [Good choice]  \n",
              "3      5              [Brilliant]  \n",
              "4      5                [Awesome]  \n",
              "5      5              [Wonderful]  \n",
              "6      5      [Worth every penny]  \n",
              "7      5              [Excellent]  \n",
              "8      5     [Highly recommended]  \n",
              "9      5              [Brilliant]  "
            ],
            "text/html": [
              "\n",
              "  <div id=\"df-b13aa3d2-bf35-4606-bf8c-a6c653c7be24\">\n",
              "    <div class=\"colab-df-container\">\n",
              "      <div>\n",
              "<style scoped>\n",
              "    .dataframe tbody tr th:only-of-type {\n",
              "        vertical-align: middle;\n",
              "    }\n",
              "\n",
              "    .dataframe tbody tr th {\n",
              "        vertical-align: top;\n",
              "    }\n",
              "\n",
              "    .dataframe thead th {\n",
              "        text-align: right;\n",
              "    }\n",
              "</style>\n",
              "<table border=\"1\" class=\"dataframe\">\n",
              "  <thead>\n",
              "    <tr style=\"text-align: right;\">\n",
              "      <th></th>\n",
              "      <th>name</th>\n",
              "      <th>Review</th>\n",
              "      <th>Rating</th>\n",
              "      <th>Review_title</th>\n",
              "    </tr>\n",
              "  </thead>\n",
              "  <tbody>\n",
              "    <tr>\n",
              "      <th>0</th>\n",
              "      <td>Nitish Raj</td>\n",
              "      <td>Fabulous in this range.. 1. Sound quality is v...</td>\n",
              "      <td>4</td>\n",
              "      <td>[Pretty good]</td>\n",
              "    </tr>\n",
              "    <tr>\n",
              "      <th>1</th>\n",
              "      <td>Azhar Maulavi</td>\n",
              "      <td>I hope you guys find this review helpful, well...</td>\n",
              "      <td>5</td>\n",
              "      <td>[Mind-blowing purchase]</td>\n",
              "    </tr>\n",
              "    <tr>\n",
              "      <th>2</th>\n",
              "      <td>Emam Hossain</td>\n",
              "      <td>Nice and smooth quality earbuds of boats. I am...</td>\n",
              "      <td>4</td>\n",
              "      <td>[Good choice]</td>\n",
              "    </tr>\n",
              "    <tr>\n",
              "      <th>3</th>\n",
              "      <td>dipu soni</td>\n",
              "      <td>(1) Worth of the money 💰(2) Nice design &amp; comf...</td>\n",
              "      <td>5</td>\n",
              "      <td>[Brilliant]</td>\n",
              "    </tr>\n",
              "    <tr>\n",
              "      <th>4</th>\n",
              "      <td>Flipkart Customer</td>\n",
              "      <td>Worth of money. Not bad. Sound quality is good...</td>\n",
              "      <td>5</td>\n",
              "      <td>[Awesome]</td>\n",
              "    </tr>\n",
              "    <tr>\n",
              "      <th>5</th>\n",
              "      <td>Ankush Nabiyal</td>\n",
              "      <td>Best product you can buy in this price range. ...</td>\n",
              "      <td>5</td>\n",
              "      <td>[Wonderful]</td>\n",
              "    </tr>\n",
              "    <tr>\n",
              "      <th>6</th>\n",
              "      <td>Garima  Awasthi</td>\n",
              "      <td>And yes there you go...You have the best in-bu...</td>\n",
              "      <td>5</td>\n",
              "      <td>[Worth every penny]</td>\n",
              "    </tr>\n",
              "    <tr>\n",
              "      <th>7</th>\n",
              "      <td>Hrishi Dukhande</td>\n",
              "      <td>I never bought any kind of Bluetooth pairs, th...</td>\n",
              "      <td>5</td>\n",
              "      <td>[Excellent]</td>\n",
              "    </tr>\n",
              "    <tr>\n",
              "      <th>8</th>\n",
              "      <td>Durgesh Awasthi</td>\n",
              "      <td>Worth a single penny 👍👍, big thumbs up.I am si...</td>\n",
              "      <td>5</td>\n",
              "      <td>[Highly recommended]</td>\n",
              "    </tr>\n",
              "    <tr>\n",
              "      <th>9</th>\n",
              "      <td>Dishari Sil</td>\n",
              "      <td>Nice colour nd too cute sound quality is good ...</td>\n",
              "      <td>5</td>\n",
              "      <td>[Brilliant]</td>\n",
              "    </tr>\n",
              "  </tbody>\n",
              "</table>\n",
              "</div>\n",
              "      <button class=\"colab-df-convert\" onclick=\"convertToInteractive('df-b13aa3d2-bf35-4606-bf8c-a6c653c7be24')\"\n",
              "              title=\"Convert this dataframe to an interactive table.\"\n",
              "              style=\"display:none;\">\n",
              "        \n",
              "  <svg xmlns=\"http://www.w3.org/2000/svg\" height=\"24px\"viewBox=\"0 0 24 24\"\n",
              "       width=\"24px\">\n",
              "    <path d=\"M0 0h24v24H0V0z\" fill=\"none\"/>\n",
              "    <path d=\"M18.56 5.44l.94 2.06.94-2.06 2.06-.94-2.06-.94-.94-2.06-.94 2.06-2.06.94zm-11 1L8.5 8.5l.94-2.06 2.06-.94-2.06-.94L8.5 2.5l-.94 2.06-2.06.94zm10 10l.94 2.06.94-2.06 2.06-.94-2.06-.94-.94-2.06-.94 2.06-2.06.94z\"/><path d=\"M17.41 7.96l-1.37-1.37c-.4-.4-.92-.59-1.43-.59-.52 0-1.04.2-1.43.59L10.3 9.45l-7.72 7.72c-.78.78-.78 2.05 0 2.83L4 21.41c.39.39.9.59 1.41.59.51 0 1.02-.2 1.41-.59l7.78-7.78 2.81-2.81c.8-.78.8-2.07 0-2.86zM5.41 20L4 18.59l7.72-7.72 1.47 1.35L5.41 20z\"/>\n",
              "  </svg>\n",
              "      </button>\n",
              "      \n",
              "  <style>\n",
              "    .colab-df-container {\n",
              "      display:flex;\n",
              "      flex-wrap:wrap;\n",
              "      gap: 12px;\n",
              "    }\n",
              "\n",
              "    .colab-df-convert {\n",
              "      background-color: #E8F0FE;\n",
              "      border: none;\n",
              "      border-radius: 50%;\n",
              "      cursor: pointer;\n",
              "      display: none;\n",
              "      fill: #1967D2;\n",
              "      height: 32px;\n",
              "      padding: 0 0 0 0;\n",
              "      width: 32px;\n",
              "    }\n",
              "\n",
              "    .colab-df-convert:hover {\n",
              "      background-color: #E2EBFA;\n",
              "      box-shadow: 0px 1px 2px rgba(60, 64, 67, 0.3), 0px 1px 3px 1px rgba(60, 64, 67, 0.15);\n",
              "      fill: #174EA6;\n",
              "    }\n",
              "\n",
              "    [theme=dark] .colab-df-convert {\n",
              "      background-color: #3B4455;\n",
              "      fill: #D2E3FC;\n",
              "    }\n",
              "\n",
              "    [theme=dark] .colab-df-convert:hover {\n",
              "      background-color: #434B5C;\n",
              "      box-shadow: 0px 1px 3px 1px rgba(0, 0, 0, 0.15);\n",
              "      filter: drop-shadow(0px 1px 2px rgba(0, 0, 0, 0.3));\n",
              "      fill: #FFFFFF;\n",
              "    }\n",
              "  </style>\n",
              "\n",
              "      <script>\n",
              "        const buttonEl =\n",
              "          document.querySelector('#df-b13aa3d2-bf35-4606-bf8c-a6c653c7be24 button.colab-df-convert');\n",
              "        buttonEl.style.display =\n",
              "          google.colab.kernel.accessAllowed ? 'block' : 'none';\n",
              "\n",
              "        async function convertToInteractive(key) {\n",
              "          const element = document.querySelector('#df-b13aa3d2-bf35-4606-bf8c-a6c653c7be24');\n",
              "          const dataTable =\n",
              "            await google.colab.kernel.invokeFunction('convertToInteractive',\n",
              "                                                     [key], {});\n",
              "          if (!dataTable) return;\n",
              "\n",
              "          const docLinkHtml = 'Like what you see? Visit the ' +\n",
              "            '<a target=\"_blank\" href=https://colab.research.google.com/notebooks/data_table.ipynb>data table notebook</a>'\n",
              "            + ' to learn more about interactive tables.';\n",
              "          element.innerHTML = '';\n",
              "          dataTable['output_type'] = 'display_data';\n",
              "          await google.colab.output.renderOutput(dataTable, element);\n",
              "          const docLink = document.createElement('div');\n",
              "          docLink.innerHTML = docLinkHtml;\n",
              "          element.appendChild(docLink);\n",
              "        }\n",
              "      </script>\n",
              "    </div>\n",
              "  </div>\n",
              "  "
            ]
          },
          "metadata": {},
          "execution_count": 22
        }
      ]
    },
    {
      "cell_type": "code",
      "source": [
        ""
      ],
      "metadata": {
        "id": "9azCabLtdtwE"
      },
      "execution_count": null,
      "outputs": []
    }
  ]
}